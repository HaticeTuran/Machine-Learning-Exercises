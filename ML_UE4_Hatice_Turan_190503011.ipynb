{
  "nbformat": 4,
  "nbformat_minor": 0,
  "metadata": {
    "colab": {
      "provenance": [],
      "authorship_tag": "ABX9TyOEf22OHVFO/ev9ryLlwrbX",
      "include_colab_link": true
    },
    "kernelspec": {
      "name": "python3",
      "display_name": "Python 3"
    },
    "language_info": {
      "name": "python"
    }
  },
  "cells": [
    {
      "cell_type": "markdown",
      "metadata": {
        "id": "view-in-github",
        "colab_type": "text"
      },
      "source": [
        "<a href=\"https://colab.research.google.com/github/HaticeTuran/Machine-Learning-Exercises/blob/main/ML_UE4_Hatice_Turan_190503011.ipynb\" target=\"_parent\"><img src=\"https://colab.research.google.com/assets/colab-badge.svg\" alt=\"Open In Colab\"/></a>"
      ]
    },
    {
      "cell_type": "markdown",
      "source": [
        "1. Try to build a classifier for the MNIST dataset that achieves over 97% accuracy on the test set. Hint: the KNeighborsClassifier works quite well for this task; you just need to find good hyperparameter values (try a grid search on the weights and n_neighbors hyperparameters). "
      ],
      "metadata": {
        "id": "Ov4l5-0Zd1TM"
      }
    },
    {
      "cell_type": "code",
      "source": [
        "import numpy as np\n",
        "from sklearn.neighbors import KNeighborsClassifier"
      ],
      "metadata": {
        "id": "Fn0wsTmre8Uj"
      },
      "execution_count": 4,
      "outputs": []
    },
    {
      "cell_type": "code",
      "source": [
        "from sklearn.datasets import fetch_openml\n",
        "\n",
        "mnist = fetch_openml('mnist_784', as_frame=False)"
      ],
      "metadata": {
        "colab": {
          "base_uri": "https://localhost:8080/"
        },
        "id": "Q6s8A6hmg5ce",
        "outputId": "7093fdeb-c149-442a-fb68-6eb558efae42"
      },
      "execution_count": 5,
      "outputs": [
        {
          "output_type": "stream",
          "name": "stderr",
          "text": [
            "/usr/local/lib/python3.9/dist-packages/sklearn/datasets/_openml.py:968: FutureWarning: The default value of `parser` will change from `'liac-arff'` to `'auto'` in 1.4. You can set `parser='auto'` to silence this warning. Therefore, an `ImportError` will be raised from 1.4 if the dataset is dense and pandas is not installed. Note that the pandas parser may return different data types. See the Notes Section in fetch_openml's API doc for details.\n",
            "  warn(\n"
          ]
        }
      ]
    },
    {
      "cell_type": "code",
      "source": [
        "X, y = mnist.data, mnist.target\n",
        "X"
      ],
      "metadata": {
        "colab": {
          "base_uri": "https://localhost:8080/"
        },
        "id": "iHOoHZmIg3x-",
        "outputId": "cebfcabf-2167-4f53-c3c9-e695db42fbe9"
      },
      "execution_count": 6,
      "outputs": [
        {
          "output_type": "execute_result",
          "data": {
            "text/plain": [
              "array([[0., 0., 0., ..., 0., 0., 0.],\n",
              "       [0., 0., 0., ..., 0., 0., 0.],\n",
              "       [0., 0., 0., ..., 0., 0., 0.],\n",
              "       ...,\n",
              "       [0., 0., 0., ..., 0., 0., 0.],\n",
              "       [0., 0., 0., ..., 0., 0., 0.],\n",
              "       [0., 0., 0., ..., 0., 0., 0.]])"
            ]
          },
          "metadata": {},
          "execution_count": 6
        }
      ]
    },
    {
      "cell_type": "code",
      "source": [
        "y"
      ],
      "metadata": {
        "colab": {
          "base_uri": "https://localhost:8080/"
        },
        "id": "Zivf4Wtlg4r7",
        "outputId": "b99d03ee-a7c6-47b3-91c0-27a9a6c5cd85"
      },
      "execution_count": 7,
      "outputs": [
        {
          "output_type": "execute_result",
          "data": {
            "text/plain": [
              "array(['5', '0', '4', ..., '4', '5', '6'], dtype=object)"
            ]
          },
          "metadata": {},
          "execution_count": 7
        }
      ]
    },
    {
      "cell_type": "code",
      "source": [
        "X_train, X_test, y_train, y_test = X[:60000], X[60000:], y[:60000], y[60000:]"
      ],
      "metadata": {
        "id": "YOTF02WUgqn2"
      },
      "execution_count": 8,
      "outputs": []
    },
    {
      "cell_type": "code",
      "execution_count": 9,
      "metadata": {
        "colab": {
          "base_uri": "https://localhost:8080/"
        },
        "id": "jFiQcAFsdKWr",
        "outputId": "1f4b60bd-4e0c-4b97-d17a-4a808d387a60"
      },
      "outputs": [
        {
          "output_type": "execute_result",
          "data": {
            "text/plain": [
              "0.9688"
            ]
          },
          "metadata": {},
          "execution_count": 9
        }
      ],
      "source": [
        "knn_clf = KNeighborsClassifier()\n",
        "knn_clf.fit(X_train, y_train)\n",
        "baseline_accuracy = knn_clf.score(X_test, y_test)\n",
        "baseline_accuracy"
      ]
    },
    {
      "cell_type": "code",
      "source": [
        "from sklearn.model_selection import GridSearchCV\n",
        "\n",
        "param_grid = [{'weights': [\"uniform\", \"distance\"], 'n_neighbors': [3, 4, 5, 6]}]\n",
        "\n",
        "knn_clf = KNeighborsClassifier()\n",
        "#cv = cross validation: kaça bölüp validationı haseplayalım?\n",
        "grid_search = GridSearchCV(knn_clf, param_grid, cv=5)\n",
        "grid_search.fit(X_train[:5_000], y_train[:5_000])"
      ],
      "metadata": {
        "colab": {
          "base_uri": "https://localhost:8080/",
          "height": 118
        },
        "id": "rC4CD23ghN7C",
        "outputId": "b6973146-206a-4b63-dce9-acaa573edd5d"
      },
      "execution_count": 10,
      "outputs": [
        {
          "output_type": "execute_result",
          "data": {
            "text/plain": [
              "GridSearchCV(cv=5, estimator=KNeighborsClassifier(),\n",
              "             param_grid=[{'n_neighbors': [3, 4, 5, 6],\n",
              "                          'weights': ['uniform', 'distance']}])"
            ],
            "text/html": [
              "<style>#sk-container-id-1 {color: black;background-color: white;}#sk-container-id-1 pre{padding: 0;}#sk-container-id-1 div.sk-toggleable {background-color: white;}#sk-container-id-1 label.sk-toggleable__label {cursor: pointer;display: block;width: 100%;margin-bottom: 0;padding: 0.3em;box-sizing: border-box;text-align: center;}#sk-container-id-1 label.sk-toggleable__label-arrow:before {content: \"▸\";float: left;margin-right: 0.25em;color: #696969;}#sk-container-id-1 label.sk-toggleable__label-arrow:hover:before {color: black;}#sk-container-id-1 div.sk-estimator:hover label.sk-toggleable__label-arrow:before {color: black;}#sk-container-id-1 div.sk-toggleable__content {max-height: 0;max-width: 0;overflow: hidden;text-align: left;background-color: #f0f8ff;}#sk-container-id-1 div.sk-toggleable__content pre {margin: 0.2em;color: black;border-radius: 0.25em;background-color: #f0f8ff;}#sk-container-id-1 input.sk-toggleable__control:checked~div.sk-toggleable__content {max-height: 200px;max-width: 100%;overflow: auto;}#sk-container-id-1 input.sk-toggleable__control:checked~label.sk-toggleable__label-arrow:before {content: \"▾\";}#sk-container-id-1 div.sk-estimator input.sk-toggleable__control:checked~label.sk-toggleable__label {background-color: #d4ebff;}#sk-container-id-1 div.sk-label input.sk-toggleable__control:checked~label.sk-toggleable__label {background-color: #d4ebff;}#sk-container-id-1 input.sk-hidden--visually {border: 0;clip: rect(1px 1px 1px 1px);clip: rect(1px, 1px, 1px, 1px);height: 1px;margin: -1px;overflow: hidden;padding: 0;position: absolute;width: 1px;}#sk-container-id-1 div.sk-estimator {font-family: monospace;background-color: #f0f8ff;border: 1px dotted black;border-radius: 0.25em;box-sizing: border-box;margin-bottom: 0.5em;}#sk-container-id-1 div.sk-estimator:hover {background-color: #d4ebff;}#sk-container-id-1 div.sk-parallel-item::after {content: \"\";width: 100%;border-bottom: 1px solid gray;flex-grow: 1;}#sk-container-id-1 div.sk-label:hover label.sk-toggleable__label {background-color: #d4ebff;}#sk-container-id-1 div.sk-serial::before {content: \"\";position: absolute;border-left: 1px solid gray;box-sizing: border-box;top: 0;bottom: 0;left: 50%;z-index: 0;}#sk-container-id-1 div.sk-serial {display: flex;flex-direction: column;align-items: center;background-color: white;padding-right: 0.2em;padding-left: 0.2em;position: relative;}#sk-container-id-1 div.sk-item {position: relative;z-index: 1;}#sk-container-id-1 div.sk-parallel {display: flex;align-items: stretch;justify-content: center;background-color: white;position: relative;}#sk-container-id-1 div.sk-item::before, #sk-container-id-1 div.sk-parallel-item::before {content: \"\";position: absolute;border-left: 1px solid gray;box-sizing: border-box;top: 0;bottom: 0;left: 50%;z-index: -1;}#sk-container-id-1 div.sk-parallel-item {display: flex;flex-direction: column;z-index: 1;position: relative;background-color: white;}#sk-container-id-1 div.sk-parallel-item:first-child::after {align-self: flex-end;width: 50%;}#sk-container-id-1 div.sk-parallel-item:last-child::after {align-self: flex-start;width: 50%;}#sk-container-id-1 div.sk-parallel-item:only-child::after {width: 0;}#sk-container-id-1 div.sk-dashed-wrapped {border: 1px dashed gray;margin: 0 0.4em 0.5em 0.4em;box-sizing: border-box;padding-bottom: 0.4em;background-color: white;}#sk-container-id-1 div.sk-label label {font-family: monospace;font-weight: bold;display: inline-block;line-height: 1.2em;}#sk-container-id-1 div.sk-label-container {text-align: center;}#sk-container-id-1 div.sk-container {/* jupyter's `normalize.less` sets `[hidden] { display: none; }` but bootstrap.min.css set `[hidden] { display: none !important; }` so we also need the `!important` here to be able to override the default hidden behavior on the sphinx rendered scikit-learn.org. See: https://github.com/scikit-learn/scikit-learn/issues/21755 */display: inline-block !important;position: relative;}#sk-container-id-1 div.sk-text-repr-fallback {display: none;}</style><div id=\"sk-container-id-1\" class=\"sk-top-container\"><div class=\"sk-text-repr-fallback\"><pre>GridSearchCV(cv=5, estimator=KNeighborsClassifier(),\n",
              "             param_grid=[{&#x27;n_neighbors&#x27;: [3, 4, 5, 6],\n",
              "                          &#x27;weights&#x27;: [&#x27;uniform&#x27;, &#x27;distance&#x27;]}])</pre><b>In a Jupyter environment, please rerun this cell to show the HTML representation or trust the notebook. <br />On GitHub, the HTML representation is unable to render, please try loading this page with nbviewer.org.</b></div><div class=\"sk-container\" hidden><div class=\"sk-item sk-dashed-wrapped\"><div class=\"sk-label-container\"><div class=\"sk-label sk-toggleable\"><input class=\"sk-toggleable__control sk-hidden--visually\" id=\"sk-estimator-id-1\" type=\"checkbox\" ><label for=\"sk-estimator-id-1\" class=\"sk-toggleable__label sk-toggleable__label-arrow\">GridSearchCV</label><div class=\"sk-toggleable__content\"><pre>GridSearchCV(cv=5, estimator=KNeighborsClassifier(),\n",
              "             param_grid=[{&#x27;n_neighbors&#x27;: [3, 4, 5, 6],\n",
              "                          &#x27;weights&#x27;: [&#x27;uniform&#x27;, &#x27;distance&#x27;]}])</pre></div></div></div><div class=\"sk-parallel\"><div class=\"sk-parallel-item\"><div class=\"sk-item\"><div class=\"sk-label-container\"><div class=\"sk-label sk-toggleable\"><input class=\"sk-toggleable__control sk-hidden--visually\" id=\"sk-estimator-id-2\" type=\"checkbox\" ><label for=\"sk-estimator-id-2\" class=\"sk-toggleable__label sk-toggleable__label-arrow\">estimator: KNeighborsClassifier</label><div class=\"sk-toggleable__content\"><pre>KNeighborsClassifier()</pre></div></div></div><div class=\"sk-serial\"><div class=\"sk-item\"><div class=\"sk-estimator sk-toggleable\"><input class=\"sk-toggleable__control sk-hidden--visually\" id=\"sk-estimator-id-3\" type=\"checkbox\" ><label for=\"sk-estimator-id-3\" class=\"sk-toggleable__label sk-toggleable__label-arrow\">KNeighborsClassifier</label><div class=\"sk-toggleable__content\"><pre>KNeighborsClassifier()</pre></div></div></div></div></div></div></div></div></div></div>"
            ]
          },
          "metadata": {},
          "execution_count": 10
        }
      ]
    },
    {
      "cell_type": "code",
      "source": [
        "grid_search.best_params_"
      ],
      "metadata": {
        "colab": {
          "base_uri": "https://localhost:8080/"
        },
        "id": "t4wqihfKjciq",
        "outputId": "81d51cad-f9e5-4445-e28b-e15e17f9cd06"
      },
      "execution_count": 11,
      "outputs": [
        {
          "output_type": "execute_result",
          "data": {
            "text/plain": [
              "{'n_neighbors': 4, 'weights': 'distance'}"
            ]
          },
          "metadata": {},
          "execution_count": 11
        }
      ]
    },
    {
      "cell_type": "code",
      "source": [
        "grid_search.best_score_"
      ],
      "metadata": {
        "colab": {
          "base_uri": "https://localhost:8080/"
        },
        "id": "fGMozTCajdWD",
        "outputId": "3d05b826-dcf9-49e4-bb56-ff31a74ebca9"
      },
      "execution_count": 12,
      "outputs": [
        {
          "output_type": "execute_result",
          "data": {
            "text/plain": [
              "0.9347999999999999"
            ]
          },
          "metadata": {},
          "execution_count": 12
        }
      ]
    },
    {
      "cell_type": "code",
      "source": [
        "grid_search.best_estimator_.fit(X_train, y_train)\n",
        "tuned_accuracy = grid_search.score(X_test, y_test)\n",
        "tuned_accuracy"
      ],
      "metadata": {
        "colab": {
          "base_uri": "https://localhost:8080/"
        },
        "id": "wPedSmicjlH7",
        "outputId": "6fb75824-8ab0-4f12-e4a8-d03990a2dd33"
      },
      "execution_count": 13,
      "outputs": [
        {
          "output_type": "execute_result",
          "data": {
            "text/plain": [
              "0.9714"
            ]
          },
          "metadata": {},
          "execution_count": 13
        }
      ]
    },
    {
      "cell_type": "markdown",
      "source": [
        "2. Write a function that can shift(6) an MNIST image in any direction (left, right, up, or down) by one pixel.6 Then, for each image in the training set, create four shifted copies (one per direction) and add them to the training set. Finally, train your best model on this expanded training set and measure its accuracy on the test set. You should observe that your model performs even better now! This technique of artificially growing the training set is called data augmentation or training set expansion"
      ],
      "metadata": {
        "id": "g9hMXGyaqJql"
      }
    },
    {
      "cell_type": "markdown",
      "source": [
        "6 You can use the shift() function from the scipy.ndimage.interpolation module. For example,\n",
        "shift(image, [2, 1], cval=0) shifts the image two pixels down and one pixel to the right."
      ],
      "metadata": {
        "id": "kKdMUuosbeQQ"
      }
    },
    {
      "cell_type": "code",
      "source": [
        "from scipy.ndimage import shift"
      ],
      "metadata": {
        "id": "hM6TGHQ8juxS"
      },
      "execution_count": 14,
      "outputs": []
    },
    {
      "cell_type": "code",
      "source": [
        "def shift_image(image, dx, dy):\n",
        "    image = image.reshape((28, 28))\n",
        "    #scipy.ndimage.shift(input, shift, output=None, order=3, mode='constant', cval=0.0, prefilter=True)\n",
        "    #Value to fill past edges of input if mode is ‘constant’.\n",
        "    shifted_image = shift(image, [dy, dx], cval=0, mode=\"constant\")\n",
        "    return shifted_image.reshape([-1])"
      ],
      "metadata": {
        "id": "Kii8LMQ0bps8"
      },
      "execution_count": 15,
      "outputs": []
    },
    {
      "cell_type": "code",
      "source": [
        "#Check if it works\n",
        "import matplotlib.pyplot as plt\n",
        "\n",
        "image = X_train[1000]  # some random digit to demo\n",
        "shifted_image_down = shift_image(image, 0, 5)\n",
        "shifted_image_left = shift_image(image, -5, 0)\n",
        "\n",
        "plt.figure(figsize=(12, 3))\n",
        "plt.subplot(131)\n",
        "plt.title(\"Original\")\n",
        "plt.imshow(image.reshape(28, 28),\n",
        "           interpolation=\"nearest\", cmap=\"Greys\")\n",
        "plt.subplot(132)\n",
        "plt.title(\"Shifted down\")\n",
        "plt.imshow(shifted_image_down.reshape(28, 28),\n",
        "           interpolation=\"nearest\", cmap=\"Greys\")\n",
        "plt.subplot(133)\n",
        "plt.title(\"Shifted left\")\n",
        "plt.imshow(shifted_image_left.reshape(28, 28),\n",
        "           interpolation=\"nearest\", cmap=\"Greys\")\n",
        "plt.show()"
      ],
      "metadata": {
        "colab": {
          "base_uri": "https://localhost:8080/",
          "height": 314
        },
        "id": "WQJwP999cDwZ",
        "outputId": "f5e02f79-e65f-43f4-ba01-0cb39f381b31"
      },
      "execution_count": 16,
      "outputs": [
        {
          "output_type": "display_data",
          "data": {
            "text/plain": [
              "<Figure size 1200x300 with 3 Axes>"
            ],
            "image/png": "[encoded data removed]"
          },
          "metadata": {}
        }
      ]
    },
    {
      "cell_type": "code",
      "source": [
        "#do shifting for every item in data set \n",
        "\n",
        "X_train_augmented = [image for image in X_train]\n",
        "y_train_augmented = [label for label in y_train]\n",
        "\n",
        "for dx, dy in ((-1, 0), (1, 0), (0, 1), (0, -1)):\n",
        "    for image, label in zip(X_train, y_train):\n",
        "        X_train_augmented.append(shift_image(image, dx, dy))\n",
        "        y_train_augmented.append(label)\n",
        "\n",
        "X_train_augmented = np.array(X_train_augmented)\n",
        "y_train_augmented = np.array(y_train_augmented)"
      ],
      "metadata": {
        "id": "y69kJYxBdJbn"
      },
      "execution_count": 17,
      "outputs": []
    },
    {
      "cell_type": "code",
      "source": [
        "#shuffle the data set\n",
        "\n",
        "shuffle_idx = np.random.permutation(len(X_train_augmented))\n",
        "X_train_augmented = X_train_augmented[shuffle_idx]\n",
        "y_train_augmented = y_train_augmented[shuffle_idx]"
      ],
      "metadata": {
        "id": "c4fkvdHadhUV"
      },
      "execution_count": 18,
      "outputs": []
    },
    {
      "cell_type": "code",
      "source": [
        "knn_clf = KNeighborsClassifier(**grid_search.best_params_)"
      ],
      "metadata": {
        "id": "nHWV67vmds3h"
      },
      "execution_count": 19,
      "outputs": []
    },
    {
      "cell_type": "code",
      "source": [
        "knn_clf.fit(X_train_augmented, y_train_augmented)"
      ],
      "metadata": {
        "colab": {
          "base_uri": "https://localhost:8080/",
          "height": 75
        },
        "id": "_T9BnTaudvvW",
        "outputId": "23f6c934-d739-4284-9de8-c6b8c280bcd9"
      },
      "execution_count": 20,
      "outputs": [
        {
          "output_type": "execute_result",
          "data": {
            "text/plain": [
              "KNeighborsClassifier(n_neighbors=4, weights='distance')"
            ],
            "text/html": [
              "<style>#sk-container-id-2 {color: black;background-color: white;}#sk-container-id-2 pre{padding: 0;}#sk-container-id-2 div.sk-toggleable {background-color: white;}#sk-container-id-2 label.sk-toggleable__label {cursor: pointer;display: block;width: 100%;margin-bottom: 0;padding: 0.3em;box-sizing: border-box;text-align: center;}#sk-container-id-2 label.sk-toggleable__label-arrow:before {content: \"▸\";float: left;margin-right: 0.25em;color: #696969;}#sk-container-id-2 label.sk-toggleable__label-arrow:hover:before {color: black;}#sk-container-id-2 div.sk-estimator:hover label.sk-toggleable__label-arrow:before {color: black;}#sk-container-id-2 div.sk-toggleable__content {max-height: 0;max-width: 0;overflow: hidden;text-align: left;background-color: #f0f8ff;}#sk-container-id-2 div.sk-toggleable__content pre {margin: 0.2em;color: black;border-radius: 0.25em;background-color: #f0f8ff;}#sk-container-id-2 input.sk-toggleable__control:checked~div.sk-toggleable__content {max-height: 200px;max-width: 100%;overflow: auto;}#sk-container-id-2 input.sk-toggleable__control:checked~label.sk-toggleable__label-arrow:before {content: \"▾\";}#sk-container-id-2 div.sk-estimator input.sk-toggleable__control:checked~label.sk-toggleable__label {background-color: #d4ebff;}#sk-container-id-2 div.sk-label input.sk-toggleable__control:checked~label.sk-toggleable__label {background-color: #d4ebff;}#sk-container-id-2 input.sk-hidden--visually {border: 0;clip: rect(1px 1px 1px 1px);clip: rect(1px, 1px, 1px, 1px);height: 1px;margin: -1px;overflow: hidden;padding: 0;position: absolute;width: 1px;}#sk-container-id-2 div.sk-estimator {font-family: monospace;background-color: #f0f8ff;border: 1px dotted black;border-radius: 0.25em;box-sizing: border-box;margin-bottom: 0.5em;}#sk-container-id-2 div.sk-estimator:hover {background-color: #d4ebff;}#sk-container-id-2 div.sk-parallel-item::after {content: \"\";width: 100%;border-bottom: 1px solid gray;flex-grow: 1;}#sk-container-id-2 div.sk-label:hover label.sk-toggleable__label {background-color: #d4ebff;}#sk-container-id-2 div.sk-serial::before {content: \"\";position: absolute;border-left: 1px solid gray;box-sizing: border-box;top: 0;bottom: 0;left: 50%;z-index: 0;}#sk-container-id-2 div.sk-serial {display: flex;flex-direction: column;align-items: center;background-color: white;padding-right: 0.2em;padding-left: 0.2em;position: relative;}#sk-container-id-2 div.sk-item {position: relative;z-index: 1;}#sk-container-id-2 div.sk-parallel {display: flex;align-items: stretch;justify-content: center;background-color: white;position: relative;}#sk-container-id-2 div.sk-item::before, #sk-container-id-2 div.sk-parallel-item::before {content: \"\";position: absolute;border-left: 1px solid gray;box-sizing: border-box;top: 0;bottom: 0;left: 50%;z-index: -1;}#sk-container-id-2 div.sk-parallel-item {display: flex;flex-direction: column;z-index: 1;position: relative;background-color: white;}#sk-container-id-2 div.sk-parallel-item:first-child::after {align-self: flex-end;width: 50%;}#sk-container-id-2 div.sk-parallel-item:last-child::after {align-self: flex-start;width: 50%;}#sk-container-id-2 div.sk-parallel-item:only-child::after {width: 0;}#sk-container-id-2 div.sk-dashed-wrapped {border: 1px dashed gray;margin: 0 0.4em 0.5em 0.4em;box-sizing: border-box;padding-bottom: 0.4em;background-color: white;}#sk-container-id-2 div.sk-label label {font-family: monospace;font-weight: bold;display: inline-block;line-height: 1.2em;}#sk-container-id-2 div.sk-label-container {text-align: center;}#sk-container-id-2 div.sk-container {/* jupyter's `normalize.less` sets `[hidden] { display: none; }` but bootstrap.min.css set `[hidden] { display: none !important; }` so we also need the `!important` here to be able to override the default hidden behavior on the sphinx rendered scikit-learn.org. See: https://github.com/scikit-learn/scikit-learn/issues/21755 */display: inline-block !important;position: relative;}#sk-container-id-2 div.sk-text-repr-fallback {display: none;}</style><div id=\"sk-container-id-2\" class=\"sk-top-container\"><div class=\"sk-text-repr-fallback\"><pre>KNeighborsClassifier(n_neighbors=4, weights=&#x27;distance&#x27;)</pre><b>In a Jupyter environment, please rerun this cell to show the HTML representation or trust the notebook. <br />On GitHub, the HTML representation is unable to render, please try loading this page with nbviewer.org.</b></div><div class=\"sk-container\" hidden><div class=\"sk-item\"><div class=\"sk-estimator sk-toggleable\"><input class=\"sk-toggleable__control sk-hidden--visually\" id=\"sk-estimator-id-4\" type=\"checkbox\" checked><label for=\"sk-estimator-id-4\" class=\"sk-toggleable__label sk-toggleable__label-arrow\">KNeighborsClassifier</label><div class=\"sk-toggleable__content\"><pre>KNeighborsClassifier(n_neighbors=4, weights=&#x27;distance&#x27;)</pre></div></div></div></div></div>"
            ]
          },
          "metadata": {},
          "execution_count": 20
        }
      ]
    },
    {
      "cell_type": "code",
      "source": [
        "augmented_accuracy = knn_clf.score(X_test, y_test)\n",
        "augmented_accuracy"
      ],
      "metadata": {
        "colab": {
          "base_uri": "https://localhost:8080/"
        },
        "id": "4GWKVCgadyXF",
        "outputId": "19b80be6-e7ad-4f26-ffff-f34ee07b467a"
      },
      "execution_count": 21,
      "outputs": [
        {
          "output_type": "execute_result",
          "data": {
            "text/plain": [
              "0.9763"
            ]
          },
          "metadata": {},
          "execution_count": 21
        }
      ]
    },
    {
      "cell_type": "code",
      "source": [
        "error_rate_change = (1 - augmented_accuracy) / (1 - tuned_accuracy) - 1\n",
        "print(f\"error_rate_change = {error_rate_change:.0%}\")"
      ],
      "metadata": {
        "colab": {
          "base_uri": "https://localhost:8080/"
        },
        "id": "r9A2HTHRd53c",
        "outputId": "87b94c26-7a6f-4896-88f1-0383b31f6ea8"
      },
      "execution_count": 22,
      "outputs": [
        {
          "output_type": "stream",
          "name": "stdout",
          "text": [
            "error_rate_change = -17%\n"
          ]
        }
      ]
    },
    {
      "cell_type": "markdown",
      "source": [
        " **11. Suppose you want to classify pictures as outdoor/indoor and daytime/nighttime.\n",
        "Should you implement two logistic regression classifiers or one softmax regression classifier?**"
      ],
      "metadata": {
        "id": "BL-oeK8cfDQJ"
      }
    },
    {
      "cell_type": "markdown",
      "source": [
        "If you want to classify pictures as outdoor/indoor and daytime/nighttime, You should implement two Logistic Regression classifiers. Because there are two different binary classifying.\n",
        "\n",
        "If you use Softmax, you need the multiclassification problem. For example: You need to classify the animals like horse, cat or dog. All of them animal and the outputs are probabilities of belonging to these classes"
      ],
      "metadata": {
        "id": "SceBFZCAe210"
      }
    },
    {
      "cell_type": "markdown",
      "source": [
        "![image.png](data:image/png;base64,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)"
      ],
      "metadata": {
        "id": "GGSAlrrnqa1c"
      }
    },
    {
      "cell_type": "markdown",
      "source": [
        "**12. Implement batch gradient descent with early stopping for softmax regression without using Scikit-Learn, only NumPy. Use it on a classification task such as the iris dataset.**"
      ],
      "metadata": {
        "id": "nfdAO6qIGz6p"
      }
    },
    {
      "cell_type": "code",
      "source": [
        "from sklearn.datasets import load_iris\n",
        "import numpy as np\n",
        "\n",
        "iris = load_iris(as_frame=True)\n",
        "list(iris)"
      ],
      "metadata": {
        "colab": {
          "base_uri": "https://localhost:8080/"
        },
        "id": "D6fbkx3FG5gd",
        "outputId": "15a34b8f-11d0-4c41-bbf1-1e64a3e9746d"
      },
      "execution_count": 30,
      "outputs": [
        {
          "output_type": "execute_result",
          "data": {
            "text/plain": [
              "['data',\n",
              " 'target',\n",
              " 'frame',\n",
              " 'target_names',\n",
              " 'DESCR',\n",
              " 'feature_names',\n",
              " 'filename',\n",
              " 'data_module']"
            ]
          },
          "metadata": {},
          "execution_count": 30
        }
      ]
    },
    {
      "cell_type": "code",
      "source": [
        "iris.data.head()"
      ],
      "metadata": {
        "colab": {
          "base_uri": "https://localhost:8080/",
          "height": 206
        },
        "id": "VkySz0CAfgpm",
        "outputId": "54047748-5b72-43b5-83e0-0189a3117dac"
      },
      "execution_count": 31,
      "outputs": [
        {
          "output_type": "execute_result",
          "data": {
            "text/plain": [
              "   sepal length (cm)  sepal width (cm)  petal length (cm)  petal width (cm)\n",
              "0                5.1               3.5                1.4               0.2\n",
              "1                4.9               3.0                1.4               0.2\n",
              "2                4.7               3.2                1.3               0.2\n",
              "3                4.6               3.1                1.5               0.2\n",
              "4                5.0               3.6                1.4               0.2"
            ],
            "text/html": [
              "\n",
              "  <div id=\"df-54efc71d-7ead-4c09-9a11-7b9954e698f8\">\n",
              "    <div class=\"colab-df-container\">\n",
              "      <div>\n",
              "<style scoped>\n",
              "    .dataframe tbody tr th:only-of-type {\n",
              "        vertical-align: middle;\n",
              "    }\n",
              "\n",
              "    .dataframe tbody tr th {\n",
              "        vertical-align: top;\n",
              "    }\n",
              "\n",
              "    .dataframe thead th {\n",
              "        text-align: right;\n",
              "    }\n",
              "</style>\n",
              "<table border=\"1\" class=\"dataframe\">\n",
              "  <thead>\n",
              "    <tr style=\"text-align: right;\">\n",
              "      <th></th>\n",
              "      <th>sepal length (cm)</th>\n",
              "      <th>sepal width (cm)</th>\n",
              "      <th>petal length (cm)</th>\n",
              "      <th>petal width (cm)</th>\n",
              "    </tr>\n",
              "  </thead>\n",
              "  <tbody>\n",
              "    <tr>\n",
              "      <th>0</th>\n",
              "      <td>5.1</td>\n",
              "      <td>3.5</td>\n",
              "      <td>1.4</td>\n",
              "      <td>0.2</td>\n",
              "    </tr>\n",
              "    <tr>\n",
              "      <th>1</th>\n",
              "      <td>4.9</td>\n",
              "      <td>3.0</td>\n",
              "      <td>1.4</td>\n",
              "      <td>0.2</td>\n",
              "    </tr>\n",
              "    <tr>\n",
              "      <th>2</th>\n",
              "      <td>4.7</td>\n",
              "      <td>3.2</td>\n",
              "      <td>1.3</td>\n",
              "      <td>0.2</td>\n",
              "    </tr>\n",
              "    <tr>\n",
              "      <th>3</th>\n",
              "      <td>4.6</td>\n",
              "      <td>3.1</td>\n",
              "      <td>1.5</td>\n",
              "      <td>0.2</td>\n",
              "    </tr>\n",
              "    <tr>\n",
              "      <th>4</th>\n",
              "      <td>5.0</td>\n",
              "      <td>3.6</td>\n",
              "      <td>1.4</td>\n",
              "      <td>0.2</td>\n",
              "    </tr>\n",
              "  </tbody>\n",
              "</table>\n",
              "</div>\n",
              "      <button class=\"colab-df-convert\" onclick=\"convertToInteractive('df-54efc71d-7ead-4c09-9a11-7b9954e698f8')\"\n",
              "              title=\"Convert this dataframe to an interactive table.\"\n",
              "              style=\"display:none;\">\n",
              "        \n",
              "  <svg xmlns=\"http://www.w3.org/2000/svg\" height=\"24px\"viewBox=\"0 0 24 24\"\n",
              "       width=\"24px\">\n",
              "    <path d=\"M0 0h24v24H0V0z\" fill=\"none\"/>\n",
              "    <path d=\"M18.56 5.44l.94 2.06.94-2.06 2.06-.94-2.06-.94-.94-2.06-.94 2.06-2.06.94zm-11 1L8.5 8.5l.94-2.06 2.06-.94-2.06-.94L8.5 2.5l-.94 2.06-2.06.94zm10 10l.94 2.06.94-2.06 2.06-.94-2.06-.94-.94-2.06-.94 2.06-2.06.94z\"/><path d=\"M17.41 7.96l-1.37-1.37c-.4-.4-.92-.59-1.43-.59-.52 0-1.04.2-1.43.59L10.3 9.45l-7.72 7.72c-.78.78-.78 2.05 0 2.83L4 21.41c.39.39.9.59 1.41.59.51 0 1.02-.2 1.41-.59l7.78-7.78 2.81-2.81c.8-.78.8-2.07 0-2.86zM5.41 20L4 18.59l7.72-7.72 1.47 1.35L5.41 20z\"/>\n",
              "  </svg>\n",
              "      </button>\n",
              "      \n",
              "  <style>\n",
              "    .colab-df-container {\n",
              "      display:flex;\n",
              "      flex-wrap:wrap;\n",
              "      gap: 12px;\n",
              "    }\n",
              "\n",
              "    .colab-df-convert {\n",
              "      background-color: #E8F0FE;\n",
              "      border: none;\n",
              "      border-radius: 50%;\n",
              "      cursor: pointer;\n",
              "      display: none;\n",
              "      fill: #1967D2;\n",
              "      height: 32px;\n",
              "      padding: 0 0 0 0;\n",
              "      width: 32px;\n",
              "    }\n",
              "\n",
              "    .colab-df-convert:hover {\n",
              "      background-color: #E2EBFA;\n",
              "      box-shadow: 0px 1px 2px rgba(60, 64, 67, 0.3), 0px 1px 3px 1px rgba(60, 64, 67, 0.15);\n",
              "      fill: #174EA6;\n",
              "    }\n",
              "\n",
              "    [theme=dark] .colab-df-convert {\n",
              "      background-color: #3B4455;\n",
              "      fill: #D2E3FC;\n",
              "    }\n",
              "\n",
              "    [theme=dark] .colab-df-convert:hover {\n",
              "      background-color: #434B5C;\n",
              "      box-shadow: 0px 1px 3px 1px rgba(0, 0, 0, 0.15);\n",
              "      filter: drop-shadow(0px 1px 2px rgba(0, 0, 0, 0.3));\n",
              "      fill: #FFFFFF;\n",
              "    }\n",
              "  </style>\n",
              "\n",
              "      <script>\n",
              "        const buttonEl =\n",
              "          document.querySelector('#df-54efc71d-7ead-4c09-9a11-7b9954e698f8 button.colab-df-convert');\n",
              "        buttonEl.style.display =\n",
              "          google.colab.kernel.accessAllowed ? 'block' : 'none';\n",
              "\n",
              "        async function convertToInteractive(key) {\n",
              "          const element = document.querySelector('#df-54efc71d-7ead-4c09-9a11-7b9954e698f8');\n",
              "          const dataTable =\n",
              "            await google.colab.kernel.invokeFunction('convertToInteractive',\n",
              "                                                     [key], {});\n",
              "          if (!dataTable) return;\n",
              "\n",
              "          const docLinkHtml = 'Like what you see? Visit the ' +\n",
              "            '<a target=\"_blank\" href=https://colab.research.google.com/notebooks/data_table.ipynb>data table notebook</a>'\n",
              "            + ' to learn more about interactive tables.';\n",
              "          element.innerHTML = '';\n",
              "          dataTable['output_type'] = 'display_data';\n",
              "          await google.colab.output.renderOutput(dataTable, element);\n",
              "          const docLink = document.createElement('div');\n",
              "          docLink.innerHTML = docLinkHtml;\n",
              "          element.appendChild(docLink);\n",
              "        }\n",
              "      </script>\n",
              "    </div>\n",
              "  </div>\n",
              "  "
            ]
          },
          "metadata": {},
          "execution_count": 31
        }
      ]
    },
    {
      "cell_type": "code",
      "source": [
        "X = iris.data[[\"petal length (cm)\", \"petal width (cm)\"]].values\n",
        "y = iris[\"target\"].values"
      ],
      "metadata": {
        "id": "yo3JJ-Hmfkw5"
      },
      "execution_count": 32,
      "outputs": []
    },
    {
      "cell_type": "code",
      "source": [
        "#adding bias terms\n",
        "\n",
        "X_with_bias = np.c_[np.ones(len(X)), X]"
      ],
      "metadata": {
        "id": "T3T6pJYcfvWD"
      },
      "execution_count": 33,
      "outputs": []
    },
    {
      "cell_type": "code",
      "source": [
        "test_ratio = 0.2\n",
        "validation_ratio = 0.2\n",
        "total_size = len(X_with_bias)\n",
        "\n",
        "test_size = int(total_size * test_ratio) # size of test data set\n",
        "validation_size = int(total_size * validation_ratio) # size of  val. data set\n",
        "train_size = total_size - test_size - validation_size # size of  train data set\n",
        "\n",
        "np.random.seed(42)\n",
        "rnd_indices = np.random.permutation(total_size)\n",
        "\n",
        "X_train = X_with_bias[rnd_indices[:train_size]]\n",
        "y_train = y[rnd_indices[:train_size]]\n",
        "\n",
        "X_valid = X_with_bias[rnd_indices[train_size:-test_size]]\n",
        "y_valid = y[rnd_indices[train_size:-test_size]]\n",
        "\n",
        "X_test = X_with_bias[rnd_indices[-test_size:]]\n",
        "y_test = y[rnd_indices[-test_size:]]"
      ],
      "metadata": {
        "id": "sSXsTSvBfw_B"
      },
      "execution_count": 34,
      "outputs": []
    },
    {
      "cell_type": "markdown",
      "source": [
        "The targets are currently class indices (0, 1 or 2), but we need target class probabilities to train the Softmax Regression model. Each instance will have target class probabilities equal to 0.0 for all classes except for the target class which will have a probability of 1.0 (in other words, the vector of class probabilities for any given instance is a one-hot vector). Let's write a small function to convert the vector of class indices into a matrix containing a one-hot vector for each instance. To understand this code, you need to know that np.diag(np.ones(n)) creates an n×n matrix full of 0s except for 1s on the main diagonal. Moreover, if a is a NumPy array, then a[[1, 3, 2]] returns an array with 3 rows equal to a[1], a[3] and a[2] (this is advanced NumPy indexing)."
      ],
      "metadata": {
        "id": "LSABSCy8gycI"
      }
    },
    {
      "cell_type": "code",
      "source": [
        "def to_one_hot(y):\n",
        "    #np.diag(np.ones(n)): Extract a diagonal or construct a diagonal array.\n",
        "    return np.diag(np.ones(y.max() + 1))[y]"
      ],
      "metadata": {
        "id": "sUIo-XiJgg93"
      },
      "execution_count": 35,
      "outputs": []
    },
    {
      "cell_type": "code",
      "source": [
        "y_train[:5]"
      ],
      "metadata": {
        "colab": {
          "base_uri": "https://localhost:8080/"
        },
        "id": "TZJ3N8VbhQiB",
        "outputId": "461ee3bc-019f-4a63-915d-0692b1accad3"
      },
      "execution_count": 38,
      "outputs": [
        {
          "output_type": "execute_result",
          "data": {
            "text/plain": [
              "array([1, 0, 2, 1, 1])"
            ]
          },
          "metadata": {},
          "execution_count": 38
        }
      ]
    },
    {
      "cell_type": "code",
      "source": [
        "to_one_hot(y_train[:5]) # give us the probabilities"
      ],
      "metadata": {
        "colab": {
          "base_uri": "https://localhost:8080/"
        },
        "id": "5EQauZS3hSsB",
        "outputId": "c966bc7d-8e27-4e28-d263-6232d94e1a8d"
      },
      "execution_count": 39,
      "outputs": [
        {
          "output_type": "execute_result",
          "data": {
            "text/plain": [
              "array([[0., 1., 0.],\n",
              "       [1., 0., 0.],\n",
              "       [0., 0., 1.],\n",
              "       [0., 1., 0.],\n",
              "       [0., 1., 0.]])"
            ]
          },
          "metadata": {},
          "execution_count": 39
        }
      ]
    },
    {
      "cell_type": "code",
      "source": [
        "Y_train_one_hot = to_one_hot(y_train)\n",
        "Y_valid_one_hot = to_one_hot(y_valid)\n",
        "Y_test_one_hot = to_one_hot(y_test)"
      ],
      "metadata": {
        "id": "4wn7T0WkhKbw"
      },
      "execution_count": 40,
      "outputs": []
    },
    {
      "cell_type": "code",
      "source": [
        "#scaling the inputs\n",
        "\n",
        "mean = X_train[:, 1:].mean(axis=0)\n",
        "std = X_train[:, 1:].std(axis=0)\n",
        "X_train[:, 1:] = (X_train[:, 1:] - mean) / std\n",
        "X_valid[:, 1:] = (X_valid[:, 1:] - mean) / std\n",
        "X_test[:, 1:] = (X_test[:, 1:] - mean) / std"
      ],
      "metadata": {
        "id": "-BgqSutEhOnV"
      },
      "execution_count": 41,
      "outputs": []
    },
    {
      "cell_type": "markdown",
      "source": [
        "Softmax function. Recall that it is defined by the following equation:"
      ],
      "metadata": {
        "id": "DumaGDWpiJea"
      }
    },
    {
      "cell_type": "markdown",
      "source": [
        "$\\sigma\\left(\\mathbf{s}(\\mathbf{x})\\right)_k = \\dfrac{\\exp\\left(s_k(\\mathbf{x})\\right)}{\\sum\\limits_{j=1}^{K}{\\exp\\left(s_j(\\mathbf{x})\\right)}}$"
      ],
      "metadata": {
        "id": "FqBTI2f8iIGX"
      }
    },
    {
      "cell_type": "code",
      "source": [
        "def softmax(logits):\n",
        "    exps = np.exp(logits)\n",
        "    exp_sums = exps.sum(axis=1, keepdims=True)\n",
        "    return exps / exp_sums"
      ],
      "metadata": {
        "id": "7iwyw7-0iBeg"
      },
      "execution_count": 42,
      "outputs": []
    },
    {
      "cell_type": "code",
      "source": [
        "#the number of inputs and outputs:\n",
        "n_inputs = X_train.shape[1]  # == 3 (2 features plus the bias term)\n",
        "n_outputs = len(np.unique(y_train))  # == 3 (there are 3 iris classes)"
      ],
      "metadata": {
        "id": "9pwrtlPRjwzE"
      },
      "execution_count": 43,
      "outputs": []
    },
    {
      "cell_type": "markdown",
      "source": [
        "J(\\mathbf{\\Theta}) =\n",
        "- \\dfrac{1}{m}\\sum\\limits_{i=1}^{m}\\sum\\limits_{k=1}^{K}{y_k^{(i)}\\log\\left(\\hat{p}_k^{(i)}\\right)}$\n",
        "\n",
        "And the equation for the gradients:\n",
        "\n",
        "$\\nabla_{\\mathbf{\\theta}^{(k)}} \\, J(\\mathbf{\\Theta}) = \\dfrac{1}{m} \\sum\\limits_{i=1}^{m}{ \\left ( \\hat{p}^{(i)}_k - y_k^{(i)} \\right ) \\mathbf{x}^{(i)}}$\n",
        "\n",
        "Note that $\\log\\left(\\hat{p}_k^{(i)}\\right)$ may not be computable if $\\hat{p}_k^{(i)} = 0$. So we will add a tiny value $\\epsilon$ to $\\log\\left(\\hat{p}_k^{(i)}\\right)$ to avoid getting `nan` values."
      ],
      "metadata": {
        "id": "CDxMA6foj7y0"
      }
    },
    {
      "cell_type": "code",
      "source": [
        "eta = 0.5\n",
        "n_epochs = 5001\n",
        "m = len(X_train)\n",
        "epsilon = 1e-5\n",
        "\n",
        "np.random.seed(42)\n",
        "#randn: Return a sample (or samples) from the “standard normal” distribution.\n",
        "Theta = np.random.randn(n_inputs, n_outputs)\n",
        "\n",
        "for epoch in range(n_epochs):\n",
        "    logits = X_train @ Theta\n",
        "    Y_proba = softmax(logits)\n",
        "    if epoch % 1000 == 0:\n",
        "        Y_proba_valid = softmax(X_valid @ Theta)\n",
        "        xentropy_losses = -(Y_valid_one_hot * np.log(Y_proba_valid + epsilon))\n",
        "        print(epoch, xentropy_losses.sum(axis=1).mean())\n",
        "    error = Y_proba - Y_train_one_hot\n",
        "    gradients = 1 / m * X_train.T @ error\n",
        "    Theta = Theta - eta * gradients"
      ],
      "metadata": {
        "colab": {
          "base_uri": "https://localhost:8080/"
        },
        "id": "Rd38NUpjj1S3",
        "outputId": "1d8fdc23-f5f3-4637-c23f-8439629be5ff"
      },
      "execution_count": 44,
      "outputs": [
        {
          "output_type": "stream",
          "name": "stdout",
          "text": [
            "0 3.7085808486476917\n",
            "1000 0.14519367480830644\n",
            "2000 0.1301309575504088\n",
            "3000 0.12009639326384539\n",
            "4000 0.11372961364786884\n",
            "5000 0.11002459532472425\n"
          ]
        }
      ]
    },
    {
      "cell_type": "code",
      "source": [
        "Theta"
      ],
      "metadata": {
        "colab": {
          "base_uri": "https://localhost:8080/"
        },
        "id": "Olps_e7kk4kA",
        "outputId": "963c32b3-f1f6-48d8-c689-b0d64a3e8f4a"
      },
      "execution_count": 45,
      "outputs": [
        {
          "output_type": "execute_result",
          "data": {
            "text/plain": [
              "array([[ 0.41931626,  6.11112089, -5.52429876],\n",
              "       [-6.53054533, -0.74608616,  8.33137102],\n",
              "       [-5.28115784,  0.25152675,  6.90680425]])"
            ]
          },
          "metadata": {},
          "execution_count": 45
        }
      ]
    },
    {
      "cell_type": "code",
      "source": [
        "logits = X_valid @ Theta\n",
        "Y_proba = softmax(logits)\n",
        "#predict\n",
        "y_predict = Y_proba.argmax(axis=1)\n",
        "\n",
        "accuracy_score = (y_predict == y_valid).mean()\n",
        "accuracy_score"
      ],
      "metadata": {
        "colab": {
          "base_uri": "https://localhost:8080/"
        },
        "id": "3l-IQmq4k80k",
        "outputId": "28f11071-a373-4928-93bd-ec4cdb0f4927"
      },
      "execution_count": 46,
      "outputs": [
        {
          "output_type": "execute_result",
          "data": {
            "text/plain": [
              "0.9333333333333333"
            ]
          },
          "metadata": {},
          "execution_count": 46
        }
      ]
    },
    {
      "cell_type": "code",
      "source": [
        "#l2 form\n",
        "eta = 0.5\n",
        "n_epochs = 5001\n",
        "m = len(X_train)\n",
        "epsilon = 1e-5\n",
        "alpha = 0.01  # regularization hyperparameter\n",
        "\n",
        "np.random.seed(42)\n",
        "Theta = np.random.randn(n_inputs, n_outputs)\n",
        "\n",
        "for epoch in range(n_epochs):\n",
        "    logits = X_train @ Theta\n",
        "    Y_proba = softmax(logits)\n",
        "    if epoch % 1000 == 0:\n",
        "        Y_proba_valid = softmax(X_valid @ Theta)\n",
        "        xentropy_losses = -(Y_valid_one_hot * np.log(Y_proba_valid + epsilon))\n",
        "        l2_loss = 1 / 2 * (Theta[1:] ** 2).sum()\n",
        "        total_loss = xentropy_losses.sum(axis=1).mean() + alpha * l2_loss\n",
        "        print(epoch, total_loss.round(4))\n",
        "    error = Y_proba - Y_train_one_hot\n",
        "    gradients = 1 / m * X_train.T @ error\n",
        "    gradients += np.r_[np.zeros([1, n_outputs]), alpha * Theta[1:]]\n",
        "    Theta = Theta - eta * gradients"
      ],
      "metadata": {
        "colab": {
          "base_uri": "https://localhost:8080/"
        },
        "id": "qWI4BBUck_2z",
        "outputId": "0c1ca14d-c2fd-4b13-e8ad-09af2ea4b03a"
      },
      "execution_count": 51,
      "outputs": [
        {
          "output_type": "stream",
          "name": "stdout",
          "text": [
            "0 3.7372\n",
            "1000 0.3259\n",
            "2000 0.3259\n",
            "3000 0.3259\n",
            "4000 0.3259\n",
            "5000 0.3259\n"
          ]
        }
      ]
    },
    {
      "cell_type": "code",
      "source": [
        "logits = X_valid @ Theta\n",
        "Y_proba = softmax(logits)\n",
        "y_predict = Y_proba.argmax(axis=1)\n",
        "\n",
        "accuracy_score = (y_predict == y_valid).mean()\n",
        "accuracy_score"
      ],
      "metadata": {
        "colab": {
          "base_uri": "https://localhost:8080/"
        },
        "id": "WZ9QOtoglKSc",
        "outputId": "51ea8980-f9c5-40c1-c97e-c7ae460791bf"
      },
      "execution_count": 48,
      "outputs": [
        {
          "output_type": "execute_result",
          "data": {
            "text/plain": [
              "0.9333333333333333"
            ]
          },
          "metadata": {},
          "execution_count": 48
        }
      ]
    },
    {
      "cell_type": "code",
      "source": [
        "#early stopping\n",
        "eta = 0.5\n",
        "n_epochs = 50_001\n",
        "m = len(X_train)\n",
        "epsilon = 1e-5\n",
        "C = 100  # regularization hyperparameter\n",
        "best_loss = np.infty\n",
        "\n",
        "np.random.seed(42)\n",
        "Theta = np.random.randn(n_inputs, n_outputs)\n",
        "\n",
        "for epoch in range(n_epochs):\n",
        "    logits = X_train @ Theta\n",
        "    Y_proba = softmax(logits)\n",
        "    Y_proba_valid = softmax(X_valid @ Theta)\n",
        "    xentropy_losses = -(Y_valid_one_hot * np.log(Y_proba_valid + epsilon))\n",
        "    l2_loss = 1 / 2 * (Theta[1:] ** 2).sum()\n",
        "    total_loss = xentropy_losses.sum(axis=1).mean() + 1 / C * l2_loss\n",
        "    if epoch % 1000 == 0:\n",
        "        print(epoch, total_loss.round(4))\n",
        "    if total_loss < best_loss:\n",
        "        best_loss = total_loss\n",
        "    else:\n",
        "        print(epoch - 1, best_loss.round(4))\n",
        "        print(epoch, total_loss.round(4), \"early stopping!\")\n",
        "        break\n",
        "    error = Y_proba - Y_train_one_hot\n",
        "    gradients = 1 / m * X_train.T @ error\n",
        "    gradients += np.r_[np.zeros([1, n_outputs]), 1 / C * Theta[1:]]\n",
        "    Theta = Theta - eta * gradients"
      ],
      "metadata": {
        "colab": {
          "base_uri": "https://localhost:8080/"
        },
        "id": "TxkzSrzqlNbk",
        "outputId": "1a021b3b-d2ab-4ad0-894a-0833a37f7a22"
      },
      "execution_count": 49,
      "outputs": [
        {
          "output_type": "stream",
          "name": "stdout",
          "text": [
            "0 3.7372\n",
            "281 0.3256\n",
            "282 0.3256 early stopping!\n"
          ]
        }
      ]
    },
    {
      "cell_type": "code",
      "source": [
        "logits = X_valid @ Theta\n",
        "Y_proba = softmax(logits)\n",
        "y_predict = Y_proba.argmax(axis=1)\n",
        "\n",
        "accuracy_score = (y_predict == y_valid).mean()\n",
        "accuracy_score"
      ],
      "metadata": {
        "colab": {
          "base_uri": "https://localhost:8080/"
        },
        "id": "nGsZejxZlWXq",
        "outputId": "d3578fb5-ddfd-4322-a9a5-7ed351984d84"
      },
      "execution_count": 50,
      "outputs": [
        {
          "output_type": "execute_result",
          "data": {
            "text/plain": [
              "0.9333333333333333"
            ]
          },
          "metadata": {},
          "execution_count": 50
        }
      ]
    },
    {
      "cell_type": "code",
      "source": [
        "import matplotlib as mpl\n",
        "\n",
        "custom_cmap = mpl.colors.ListedColormap(['#fafab0', '#9898ff', '#a0faa0'])\n",
        "\n",
        "x0, x1 = np.meshgrid(np.linspace(0, 8, 500).reshape(-1, 1),\n",
        "                     np.linspace(0, 3.5, 200).reshape(-1, 1))\n",
        "X_new = np.c_[x0.ravel(), x1.ravel()]\n",
        "X_new = (X_new - mean) / std\n",
        "X_new_with_bias = np.c_[np.ones(len(X_new)), X_new]\n",
        "\n",
        "logits = X_new_with_bias @ Theta\n",
        "Y_proba = softmax(logits)\n",
        "y_predict = Y_proba.argmax(axis=1)\n",
        "\n",
        "zz1 = Y_proba[:, 1].reshape(x0.shape)\n",
        "zz = y_predict.reshape(x0.shape)\n",
        "\n",
        "plt.figure(figsize=(10, 4))\n",
        "plt.plot(X[y == 2, 0], X[y == 2, 1], \"g^\", label=\"Iris virginica\")\n",
        "plt.plot(X[y == 1, 0], X[y == 1, 1], \"bs\", label=\"Iris versicolor\")\n",
        "plt.plot(X[y == 0, 0], X[y == 0, 1], \"yo\", label=\"Iris setosa\")\n",
        "\n",
        "plt.contourf(x0, x1, zz, cmap=custom_cmap)\n",
        "contour = plt.contour(x0, x1, zz1, cmap=\"hot\")\n",
        "plt.clabel(contour, inline=1)\n",
        "plt.xlabel(\"Petal length\")\n",
        "plt.ylabel(\"Petal width\")\n",
        "plt.legend(loc=\"upper left\")\n",
        "plt.axis([0, 7, 0, 3.5])\n",
        "plt.grid()\n",
        "plt.show()"
      ],
      "metadata": {
        "colab": {
          "base_uri": "https://localhost:8080/",
          "height": 393
        },
        "id": "XL0I9bErlY5C",
        "outputId": "87e11dac-53ab-4cf5-dce6-796dd1ab6550"
      },
      "execution_count": 54,
      "outputs": [
        {
          "output_type": "display_data",
          "data": {
            "text/plain": [
              "<Figure size 1000x400 with 1 Axes>"
            ],
            "image/png": "[encoded data removed]"
          },
          "metadata": {}
        }
      ]
    },
    {
      "cell_type": "code",
      "source": [
        "logits = X_test @ Theta\n",
        "Y_proba = softmax(logits)\n",
        "y_predict = Y_proba.argmax(axis=1)\n",
        "\n",
        "accuracy_score = (y_predict == y_test).mean()\n",
        "accuracy_score"
      ],
      "metadata": {
        "colab": {
          "base_uri": "https://localhost:8080/"
        },
        "id": "Hm5ay6l0lqQj",
        "outputId": "6060057e-a7b6-41cd-cafe-d1f95c4dc5a0"
      },
      "execution_count": 55,
      "outputs": [
        {
          "output_type": "execute_result",
          "data": {
            "text/plain": [
              "0.9666666666666667"
            ]
          },
          "metadata": {},
          "execution_count": 55
        }
      ]
    },
    {
      "cell_type": "code",
      "source": [],
      "metadata": {
        "id": "LPQVDzw2mDMW"
      },
      "execution_count": null,
      "outputs": []
    }
  ]
}