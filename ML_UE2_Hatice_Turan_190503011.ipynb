{
  "nbformat": 4,
  "nbformat_minor": 0,
  "metadata": {
    "colab": {
      "provenance": [],
      "authorship_tag": "ABX9TyOBAdHyDqoZyMGi4NA5xcZH",
      "include_colab_link": true
    },
    "kernelspec": {
      "name": "python3",
      "display_name": "Python 3"
    },
    "language_info": {
      "name": "python"
    }
  },
  "cells": [
    {
      "cell_type": "markdown",
      "metadata": {
        "id": "view-in-github",
        "colab_type": "text"
      },
      "source": [
        "<a href=\"https://colab.research.google.com/github/HaticeTuran/Machine-Learning-Exercises/blob/main/ML_UE2_Hatice_Turan_190503011.ipynb\" target=\"_parent\"><img src=\"https://colab.research.google.com/assets/colab-badge.svg\" alt=\"Open In Colab\"/></a>"
      ]
    },
    {
      "cell_type": "code",
      "source": [
        "import numpy as np\n",
        "import sklearn\n",
        "from matplotlib import pyplot as plt\n",
        "from sklearn.linear_model import LinearRegression"
      ],
      "metadata": {
        "id": "orfPWgapx1Yw"
      },
      "execution_count": 119,
      "outputs": []
    },
    {
      "cell_type": "code",
      "source": [
        "from pathlib import Path\n",
        "\n",
        "IMAGES_PATH = Path() / \"images\" / \"training_linear_models\"\n",
        "IMAGES_PATH.mkdir(parents=True, exist_ok=True)\n",
        "\n",
        "def save_fig(fig_id, tight_layout=True, fig_extension=\"png\", resolution=300):\n",
        "    path = IMAGES_PATH / f\"{fig_id}.{fig_extension}\"\n",
        "    if tight_layout:\n",
        "        plt.tight_layout()\n",
        "    plt.savefig(path, format=fig_extension, dpi=resolution)"
      ],
      "metadata": {
        "id": "WCYQbFNVc31f"
      },
      "execution_count": 120,
      "outputs": []
    },
    {
      "cell_type": "code",
      "source": [
        "np.random.seed(42)\n",
        "m = 100\n",
        "X = 6 * np.random.rand(m, 1) - 3\n",
        "y = 0.5 * X **3 + X + 2 + np.random.randn(m, 1)"
      ],
      "metadata": {
        "id": "po7lruqLx79i"
      },
      "execution_count": 121,
      "outputs": []
    },
    {
      "cell_type": "code",
      "source": [
        "# extra code – this cell generates and saves Figure 4–12\n",
        "plt.figure(figsize=(6, 4))\n",
        "plt.plot(X, y, \"b.\")\n",
        "plt.xlabel(\"$x_1$\")\n",
        "plt.ylabel(\"$y$\", rotation=0)\n",
        "plt.axis([-3, 3, -10, 10])\n",
        "plt.grid()\n",
        "save_fig(\"quadratic_data_plot\")\n",
        "plt.show()"
      ],
      "metadata": {
        "colab": {
          "base_uri": "https://localhost:8080/",
          "height": 297
        },
        "id": "2Cyt2_i7V-tJ",
        "outputId": "25812ec5-1cd5-478e-a17a-5cad731ac6aa"
      },
      "execution_count": 122,
      "outputs": [
        {
          "output_type": "display_data",
          "data": {
            "text/plain": [
              "<Figure size 432x288 with 1 Axes>"
            ],
            "image/png": "[encoded data removed]"
          },
          "metadata": {
            "needs_background": "light"
          }
        }
      ]
    },
    {
      "cell_type": "code",
      "source": [
        "from sklearn.preprocessing import PolynomialFeatures\n",
        "\n",
        "poly_features = PolynomialFeatures(degree=2, include_bias=False)\n",
        "X_poly = poly_features.fit_transform(X)\n",
        "X[0]"
      ],
      "metadata": {
        "colab": {
          "base_uri": "https://localhost:8080/"
        },
        "id": "uzF1sO1FyM7E",
        "outputId": "6365e048-2305-4487-d792-d33923470cb9"
      },
      "execution_count": 123,
      "outputs": [
        {
          "output_type": "execute_result",
          "data": {
            "text/plain": [
              "array([-0.75275929])"
            ]
          },
          "metadata": {},
          "execution_count": 123
        }
      ]
    },
    {
      "cell_type": "code",
      "source": [
        "X_poly[0]"
      ],
      "metadata": {
        "colab": {
          "base_uri": "https://localhost:8080/"
        },
        "id": "D6aH8BLpWbU1",
        "outputId": "53356ce4-30d5-4c64-e199-71e866f51e39"
      },
      "execution_count": 124,
      "outputs": [
        {
          "output_type": "execute_result",
          "data": {
            "text/plain": [
              "array([-0.75275929,  0.56664654])"
            ]
          },
          "metadata": {},
          "execution_count": 124
        }
      ]
    },
    {
      "cell_type": "code",
      "source": [
        "lin_reg = LinearRegression()\n",
        "lin_reg.fit(X_poly, y)\n",
        "#intercept = bias degerleri\n",
        "#coef = weights\n",
        "lin_reg.intercept_, lin_reg.coef_"
      ],
      "metadata": {
        "colab": {
          "base_uri": "https://localhost:8080/"
        },
        "id": "weHZVfGKWeSO",
        "outputId": "33dccb74-f4ee-4aa6-f717-6d4fd28a2d5e"
      },
      "execution_count": 125,
      "outputs": [
        {
          "output_type": "execute_result",
          "data": {
            "text/plain": [
              "(array([1.87038479]), array([[3.63581591, 0.01994678]]))"
            ]
          },
          "metadata": {},
          "execution_count": 125
        }
      ]
    },
    {
      "cell_type": "code",
      "source": [
        "# extra code – this cell generates and saves Figure 4–13\n",
        "\n",
        "X_new_poly = poly_features.transform(X)\n",
        "y_new = lin_reg.predict(X_new_poly)\n",
        "\n",
        "plt.figure(figsize=(6, 4))\n",
        "plt.plot(X, y, \"b.\")\n",
        "plt.plot(X, y_new, \"r-\", linewidth=2, label=\"Predictions\")\n",
        "plt.xlabel(\"$x_1$\")\n",
        "plt.ylabel(\"$y$\", rotation=0)\n",
        "plt.legend(loc=\"upper left\")\n",
        "plt.axis([-3, 3, -10, 10])\n",
        "plt.grid()\n",
        "save_fig(\"quadratic_predictions_plot\")\n",
        "plt.show()"
      ],
      "metadata": {
        "colab": {
          "base_uri": "https://localhost:8080/",
          "height": 297
        },
        "id": "zowFiXyFWiPl",
        "outputId": "50a21df4-6ed0-4a80-a9f8-cc9cb7b66124"
      },
      "execution_count": 126,
      "outputs": [
        {
          "output_type": "display_data",
          "data": {
            "text/plain": [
              "<Figure size 432x288 with 1 Axes>"
            ],
            "image/png": "[encoded data removed]"
          },
          "metadata": {
            "needs_background": "light"
          }
        }
      ]
    },
    {
      "cell_type": "code",
      "source": [
        "from sklearn.linear_model import LinearRegression\n",
        "lin_reg = LinearRegression()\n",
        "lin_reg.fit(X, y)\n",
        "lin_reg.intercept_, lin_reg.coef_\n",
        "\n",
        "lin_reg_pred = lin_reg.predict(X)"
      ],
      "metadata": {
        "id": "fzAdoBbskI_X"
      },
      "execution_count": 127,
      "outputs": []
    },
    {
      "cell_type": "code",
      "execution_count": 128,
      "metadata": {
        "id": "NfNMlfcwqQQ9"
      },
      "outputs": [],
      "source": [
        "#ridge regression\n",
        "from sklearn.linear_model import Ridge\n",
        "ridge_reg = Ridge(alpha=0.1, solver=\"cholesky\")\n",
        "ridge_reg.fit(X, y)\n",
        "ridge_reg.predict([[1.5]])\n",
        "ridge_pred = ridge_reg.predict(X)"
      ]
    },
    {
      "cell_type": "code",
      "source": [
        "#Ridge Reg. with Stochastic GD \n",
        "from sklearn.linear_model import SGDRegressor\n",
        "sgd_reg = SGDRegressor(penalty=\"l2\", alpha=0.1 / m, tol=None,\n",
        "                       max_iter=1000, eta0=0.01, random_state=42)\n",
        "\n",
        "sgd_reg.fit(X, y.ravel()) # y.ravel() because fit() expects 1D targets\n",
        "sgd_reg.predict([[1.5]])\n"
      ],
      "metadata": {
        "colab": {
          "base_uri": "https://localhost:8080/"
        },
        "id": "Sd_t9wHxyPma",
        "outputId": "81ecdb54-ce05-4d60-a91d-27ffd6a0b8e4"
      },
      "execution_count": 129,
      "outputs": [
        {
          "output_type": "execute_result",
          "data": {
            "text/plain": [
              "array([7.37610194])"
            ]
          },
          "metadata": {},
          "execution_count": 129
        }
      ]
    },
    {
      "cell_type": "code",
      "source": [
        "#Lasso Regression\n",
        "from sklearn.linear_model import Lasso\n",
        "lasso_reg = Lasso(alpha=0.4)\n",
        "lasso_reg.fit(X, y)\n",
        "lasso_reg.predict([[1.5]])\n",
        "lasso_pred = lasso_reg.predict(X)"
      ],
      "metadata": {
        "id": "WkYNSM9IyX9J"
      },
      "execution_count": 130,
      "outputs": []
    },
    {
      "cell_type": "code",
      "source": [
        "#Elastic Net\n",
        "from sklearn.linear_model import ElasticNet\n",
        "elastic_net = ElasticNet(alpha=1, l1_ratio=0.5)\n",
        "elastic_net.fit(X, y)\n",
        "elastic_net.predict([[1.5]])\n",
        "elastic_net_pred = elastic_net.predict(X)"
      ],
      "metadata": {
        "id": "PTh4l0kfdHCK"
      },
      "execution_count": 135,
      "outputs": []
    },
    {
      "cell_type": "code",
      "source": [
        "from sklearn.metrics import mean_squared_error\n",
        "\n",
        "#Polynomial \n",
        "print(\"Ridge MSE: \"+ str(mean_squared_error(y, ridge_pred)))\n",
        "print(\"Lasso MSE: \"+ str(mean_squared_error(y, lasso_pred)))\n",
        "print(\"Elastic Net MSE: \"+ str(mean_squared_error(y, elastic_net_pred)))\n",
        "print(\"Polynomial MSE: \"+ str(mean_squared_error(y, y_new)))\n",
        "print(\"Linear reg. MSE: \"+ str(mean_squared_error(y, lin_reg_pred)))\n"
      ],
      "metadata": {
        "colab": {
          "base_uri": "https://localhost:8080/"
        },
        "id": "nviMp_V8dO3v",
        "outputId": "5bb10846-17bc-431e-cae5-0a07aa16eced"
      },
      "execution_count": 132,
      "outputs": [
        {
          "output_type": "stream",
          "name": "stdout",
          "text": [
            "Ridge MSE: 4.578577675162135\n",
            "Lasso MSE: 4.629300503991027\n",
            "Elastic Net MSE: 4.718082704056143\n",
            "Polynomial MSE: 4.575768085585685\n",
            "Linear reg. MSE: 4.578573494093262\n"
          ]
        }
      ]
    },
    {
      "cell_type": "code",
      "source": [
        "plt.figure(figsize=(10,6))\n",
        "plt.grid(True)\n",
        "plt.scatter(X, y, s=10)\n",
        "plt.plot(X, lin_reg_pred, \"b\", label=\"Linear Reg\")\n",
        "plt.plot(X, ridge_pred, \"r--\", label=\"Ridge Reg\")\n",
        "plt.plot(X, lasso_pred, \"m\", label=\"Lasso Reg\")\n",
        "plt.plot(X, elastic_net_pred, \"g\", label=\"Elastic Net\")\n",
        "plt.plot(X, y_new, \"c\", label=\"Polynomial Regression\")\n",
        "plt.legend(loc=\"upper left\")\n",
        "plt.show()"
      ],
      "metadata": {
        "colab": {
          "base_uri": "https://localhost:8080/",
          "height": 374
        },
        "id": "lkJHSODuhi7j",
        "outputId": "1d2d774b-cf71-4b1e-c8c6-e5104ca8598d"
      },
      "execution_count": 136,
      "outputs": [
        {
          "output_type": "display_data",
          "data": {
            "text/plain": [
              "<Figure size 720x432 with 1 Axes>"
            ],
            "image/png": "[encoded data removed]"
          },
          "metadata": {
            "needs_background": "light"
          }
        }
      ]
    },
    {
      "cell_type": "code",
      "source": [],
      "metadata": {
        "id": "9As05p5blxgm"
      },
      "execution_count": 133,
      "outputs": []
    }
  ]
}